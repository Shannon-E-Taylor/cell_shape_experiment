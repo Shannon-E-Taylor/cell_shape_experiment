{
 "cells": [
  {
   "cell_type": "code",
   "execution_count": 1,
   "metadata": {},
   "outputs": [],
   "source": [
    "import napari \n",
    "from skimage.io import imread\n",
    "import numpy as np\n",
    "import pandas as pd\n",
    "\n",
    "import matplotlib.pyplot as plt\n",
    "import time \n",
    "\n",
    "import dask as da \n",
    "from dask import delayed \n",
    "import dask_image"
   ]
  },
  {
   "cell_type": "code",
   "execution_count": 2,
   "metadata": {},
   "outputs": [],
   "source": [
    "path = '../output/nuclear_segs/Experiment-347_s1.ome-1.tif/0.npy'\n",
    "# lazy_imread = delayed(np.load)\n",
    "# reader = lazy_imread(path)  # doesn't actually read the file\n",
    "# array = reader.compute()  # *now* it reads.\n",
    "\n",
    "# mask = da.from_array(array)\n",
    "\n",
    "img = imread('../data/nuclei_images/Experiment-347_s1.ome-1.tif')\n",
    "\n",
    "masks = np.load(path) # Your image as a numpy array \n",
    "\n",
    "# from skimage.io import imsave \n",
    "# imsave('../output/nuclear_segs/Experiment-347_s1.ome-1.tif/masks.tiff', img)\n",
    "\n"
   ]
  },
  {
   "cell_type": "code",
   "execution_count": 4,
   "metadata": {},
   "outputs": [
    {
     "name": "stderr",
     "output_type": "stream",
     "text": [
      "C:\\Users\\shil5659\\Anaconda3\\envs\\napari-env\\lib\\site-packages\\napari_tools_menu\\__init__.py:165: FutureWarning: Public access to Window.qt_viewer is deprecated and will be removed in\n",
      "v0.5.0. It is considered an \"implementation detail\" of the napari\n",
      "application, not part of the napari viewer model. If your use case\n",
      "requires access to qt_viewer, please open an issue to discuss.\n",
      "  self.tools_menu = ToolsMenu(self, self.qt_viewer.viewer)\n"
     ]
    },
    {
     "name": "stdout",
     "output_type": "stream",
     "text": [
      "Measurement running\n",
      "Region properties source: Measure now (shape)\n"
     ]
    }
   ],
   "source": [
    "viewer = napari.Viewer() \n",
    "img_view = viewer.add_image(img)\n",
    "mask_view = viewer.add_labels(masks)"
   ]
  },
  {
   "cell_type": "code",
   "execution_count": 5,
   "metadata": {},
   "outputs": [],
   "source": [
    "from skimage.measure import regionprops_table\n",
    "\n",
    "dat = regionprops_table(\n",
    "    masks, properties = [\n",
    "        'label', 'area', 'centroid', \n",
    "        'equivalent_diameter_area', \n",
    "        \n",
    "    ]\n",
    ")"
   ]
  },
  {
   "cell_type": "code",
   "execution_count": 8,
   "metadata": {},
   "outputs": [],
   "source": [
    "data = pd.DataFrame(dat)"
   ]
  },
  {
   "cell_type": "code",
   "execution_count": 19,
   "metadata": {},
   "outputs": [
    {
     "data": {
      "text/plain": [
       "(array([1462., 1315., 1308.,  439.,  142.,   28.,   20.,    3.,    4.,\n",
       "           2.]),\n",
       " array([  8003. ,  47272.4,  86541.8, 125811.2, 165080.6, 204350. ,\n",
       "        243619.4, 282888.8, 322158.2, 361427.6, 400697. ]),\n",
       " <BarContainer object of 10 artists>)"
      ]
     },
     "execution_count": 19,
     "metadata": {},
     "output_type": "execute_result"
    }
   ],
   "source": [
    "data = data[data['area'] > 8000]\n",
    "plt.hist(data['area'])"
   ]
  },
  {
   "cell_type": "code",
   "execution_count": 23,
   "metadata": {},
   "outputs": [],
   "source": [
    "plt.scatter(\n",
    "    data['area'],\n",
    "    data['equivalent_diameter_area'])\n",
    "\n",
    "data.to_csv('../output/nuclear_segs/img_1_tmp_df.csv')"
   ]
  },
  {
   "cell_type": "code",
   "execution_count": 8,
   "metadata": {},
   "outputs": [],
   "source": [
    "img_tif = imread('../output/nuclear_segs/Experiment-347_s1.ome-1.tif/masks.tiff')"
   ]
  },
  {
   "cell_type": "code",
   "execution_count": 22,
   "metadata": {},
   "outputs": [],
   "source": [
    "from dask_image.imread import imread\n",
    "from dask_image.ndmeasure import * \n",
    "\n",
    "\n",
    "masks = imread('../output/nuclear_segs/Experiment-347_s1.ome-1.tif/masks.tiff', \n",
    "arraytype = 'numpy')\n",
    "\n",
    "area(masks, masks, index = np.unique(img_tif)).compute()"
   ]
  }
 ],
 "metadata": {
  "interpreter": {
   "hash": "9713f239986b1da66f7ac1787ac9970e8b6ee16baaa57cb6ffb79a8f1690d353"
  },
  "kernelspec": {
   "display_name": "Python 3.8.13 ('napari-env')",
   "language": "python",
   "name": "python3"
  },
  "language_info": {
   "codemirror_mode": {
    "name": "ipython",
    "version": 3
   },
   "file_extension": ".py",
   "mimetype": "text/x-python",
   "name": "python",
   "nbconvert_exporter": "python",
   "pygments_lexer": "ipython3",
   "version": "3.8.13"
  },
  "orig_nbformat": 4
 },
 "nbformat": 4,
 "nbformat_minor": 2
}
