{
 "cells": [
  {
   "cell_type": "code",
   "execution_count": 2,
   "metadata": {},
   "outputs": [],
   "source": [
    "import napari \n",
    "\n",
    "import numpy as np \n",
    "\n",
    "from skimage.io import imread\n",
    "\n",
    "from cellpose import models \n",
    "import skimage "
   ]
  },
  {
   "cell_type": "code",
   "execution_count": 2,
   "metadata": {},
   "outputs": [],
   "source": [
    "img = imread('../data/nuclei_images/Experiment-347_s1.ome-1.tif')"
   ]
  },
  {
   "cell_type": "code",
   "execution_count": 3,
   "metadata": {},
   "outputs": [],
   "source": [
    "model_nuc =  models.Cellpose(gpu=True, model_type='nuclei')"
   ]
  },
  {
   "cell_type": "code",
   "execution_count": 4,
   "metadata": {},
   "outputs": [],
   "source": [
    "img_gauss = skimage.filters.gaussian(\n",
    "    img[:, 1000:1500, 1000:1500], sigma=1)\n",
    "# viewer = napari.Viewer()\n",
    "# viewer.add_image(img[:, 1000:1500, 1000:1500])"
   ]
  },
  {
   "cell_type": "code",
   "execution_count": 8,
   "metadata": {},
   "outputs": [],
   "source": [
    "fast_mode = True\n",
    "\n",
    "masks, _, _, _ = model_nuc.eval(\n",
    "    img[:, 1000:1500, 1000:1500], \n",
    "    z_axis = 0, \n",
    "    diameter = 75,\n",
    "    anisotropy = 3.2, \n",
    "    channels = [0, 0], \n",
    "    do_3D=True,\n",
    "    min_size = 500000, \n",
    "    flow_threshold=0\n",
    "    # batch_size = 1, # try smaller batch size for memory \n",
    "    # flow_threshold=0, # The QC step throws out masks that produce flows which are substantially different from the network's predicted flows. This mask->flow computation takes some time.    https://github.com/MouseLand/cellpose/issues/119 \n",
    "    # rescale = True, \n",
    ")"
   ]
  },
  {
   "cell_type": "code",
   "execution_count": 3,
   "metadata": {},
   "outputs": [
    {
     "name": "stderr",
     "output_type": "stream",
     "text": [
      "C:\\Users\\shil5659\\Anaconda3\\envs\\napari-env\\lib\\site-packages\\napari_tools_menu\\__init__.py:165: FutureWarning: Public access to Window.qt_viewer is deprecated and will be removed in\n",
      "v0.5.0. It is considered an \"implementation detail\" of the napari\n",
      "application, not part of the napari viewer model. If your use case\n",
      "requires access to qt_viewer, please open an issue to discuss.\n",
      "  self.tools_menu = ToolsMenu(self, self.qt_viewer.viewer)\n"
     ]
    },
    {
     "data": {
      "text/plain": [
       "<Labels layer 'Labels' at 0x1c364f85ca0>"
      ]
     },
     "execution_count": 3,
     "metadata": {},
     "output_type": "execute_result"
    }
   ],
   "source": [
    "\n",
    "viewer = napari.Viewer()\n",
    "# viewer.add_image(img)\n",
    "# viewer.add_image(img_gauss)\n",
    "viewer.add_labels(np.load('../scratch/Experiment-347_s1.ome-1.tif(0, 3, 3, 0).npy'))"
   ]
  },
  {
   "cell_type": "code",
   "execution_count": 7,
   "metadata": {},
   "outputs": [],
   "source": [
    "# viewer = napari.Viewer()\n",
    "\n",
    "# viewer.add_labels(np.load('../scratch/Experiment-347_s2.ome-1.tif(0, 0, 2, 0).npy'))"
   ]
  },
  {
   "cell_type": "code",
   "execution_count": null,
   "metadata": {},
   "outputs": [],
   "source": []
  }
 ],
 "metadata": {
  "interpreter": {
   "hash": "f3a84a3f59446f15d14eecb9fcec1e23c156815d6cce26876a9b4ea86f6d3aec"
  },
  "kernelspec": {
   "display_name": "Python 3.7.10 ('AGET')",
   "language": "python",
   "name": "python3"
  },
  "language_info": {
   "codemirror_mode": {
    "name": "ipython",
    "version": 3
   },
   "file_extension": ".py",
   "mimetype": "text/x-python",
   "name": "python",
   "nbconvert_exporter": "python",
   "pygments_lexer": "ipython3",
   "version": "3.8.13"
  },
  "orig_nbformat": 4
 },
 "nbformat": 4,
 "nbformat_minor": 2
}
