{
 "cells": [
  {
   "cell_type": "code",
   "execution_count": 8,
   "metadata": {},
   "outputs": [],
   "source": [
    "import napari \n",
    "import pandas as pd\n",
    "import numpy as np\n",
    "import math\n",
    "\n",
    "from skimage.io import imread\n",
    "from skimage.measure import regionprops_table\n",
    "from skimage.measure import marching_cubes, mesh_surface_area \n",
    "\n",
    "from scipy.ndimage import binary_fill_holes, binary_closing, grey_dilation, binary_dilation\n",
    "\n",
    "\n",
    "import matplotlib.pyplot as plt\n",
    "\n",
    "# for processing the meshes \n",
    "import open3d as o3d\n",
    "import pymeshfix\n",
    "from pymeshfix._meshfix import PyTMesh\n",
    "\n",
    "import vedo \n",
    "\n",
    "\n",
    "from sklearn.decomposition import PCA\n",
    "from sklearn.preprocessing import StandardScaler\n",
    "\n",
    "import os "
   ]
  },
  {
   "cell_type": "code",
   "execution_count": 14,
   "metadata": {},
   "outputs": [],
   "source": [
    "metrics_3d = [\n",
    "#     'area',\n",
    "# #  'bbox',\n",
    "# #  'bbox_area',\n",
    "# # 'convex_area', # cause error\n",
    "# #  'convex_image',\n",
    "#  'coords',\n",
    "# 'feret_diameter_max',\n",
    "#  'filled_area',\n",
    "#  'filled_image',\n",
    "#  'image',\n",
    "#   'inertia_tensor',\n",
    "#   'inertia_tensor_eigvals',\n",
    "# 'label',\n",
    " 'major_axis_length',\n",
    " 'minor_axis_length',\n",
    " 'extent', \n",
    "#   'moments',\n",
    "#  'moments_central',\n",
    " # 'slice',\n",
    " 'solidity'\n",
    "] \n",
    "\n",
    "def get_measurements(masks, metrics, surf): \n",
    "    # measure our data \n",
    "    shapes_2 = regionprops_table(masks, properties = metrics)\n",
    "    df = pd.DataFrame(shapes_2)\n",
    "\n",
    "    df['surface area'] = surf\n",
    "\n",
    "    df['cuboidness'] = df['area'] / masks.shape[0] * masks.shape[1] * masks.shape[2]\n",
    "    df['sphericity'] = (math.pi**(1/3) * (6 * df['area'])**(2/3)) / df['surface area'] \n",
    "    df['flatness'] = df['major_axis_length'] / df['minor_axis_length'] \n",
    "    \n",
    "    return(df)\n",
    "\n",
    "def get_surface_area(tb_mask): \n",
    "    surface_areas = []\n",
    "\n",
    "    for i in np.unique(tb_mask.flatten())[np.unique(tb_mask.flatten())>0]: \n",
    "        #print(i)\n",
    "        mask = tb_mask.copy()\n",
    "        mask[mask != i] = 0\n",
    "\n",
    "        verts, faces, _, __ = marching_cubes(mask)\n",
    "\n",
    "        surface_areas.append(mesh_surface_area(verts, faces))\n",
    "    return(surface_areas) \n",
    "\n",
    "def calculate_metrics(df): \n",
    "    # calculate ap, dv, ml distances \n",
    "\n",
    "    # none of this is sensible if the embryo isn't aligned right which it aint \n",
    "\n",
    "    # df['ap'] = (df['bbox-4'] - df['bbox-1']) \n",
    "    # df['dv'] = (df['bbox-3'] - df['bbox-0'])\n",
    "    # df['ml'] = (df['bbox-5'] - df['bbox-2'])\n",
    "    # # calculate ratios \n",
    "    # df['AP:DV'] = df['ap'] / df['dv']\n",
    "    # df['AP:ML'] = df['ap'] / df['ml']\n",
    "    # df['DV:ML'] = df['dv'] / df['ml'] \n",
    "    \n",
    "    # # transverse volume ratios - may need to remove this \n",
    "    # df['transverse'] = (df['dv'] + df['ml']) / 2 #transverse cell diameter - why is this useful? \n",
    "    # df['AP_anisotropy'] = df['ap'] / df['transverse'] \n",
    "    \n",
    "    # df['transverse_spread'] = df['dv'] * df['ml'] \n",
    "    # df['transverse_xsection'] = df['area'] / df['ap'] \n",
    "    \n",
    "    # shape metrics \n",
    "    df['cuboidness'] = df['area'] / (df['ap'] * df['dv'] * df['ml']) \n",
    "    df['sphericity'] = (math.pi**(1/3) * (6 * df['area'])**(2/3)) / df['surface area'] \n",
    "    df['flatness'] = df['major_axis_length'] / df['minor_axis_length'] \n",
    "    \n",
    "    return(df)\n",
    "\n",
    "def do_all_metrics(mask, metrics, surf):\n",
    "    df = get_measurements(mask, metrics)\n",
    "    # surf = get_surface_area(mask)\n",
    "    df['surface area'] = surf\n",
    "    df = calculate_metrics(df)\n",
    "    return(df)\n"
   ]
  },
  {
   "cell_type": "code",
   "execution_count": null,
   "metadata": {},
   "outputs": [],
   "source": []
  },
  {
   "cell_type": "code",
   "execution_count": 16,
   "metadata": {},
   "outputs": [
    {
     "data": {
      "text/plain": [
       "'cell_10001'"
      ]
     },
     "execution_count": 16,
     "metadata": {},
     "output_type": "execute_result"
    }
   ],
   "source": [
    "cell"
   ]
  },
  {
   "cell_type": "code",
   "execution_count": 15,
   "metadata": {},
   "outputs": [
    {
     "name": "stdout",
     "output_type": "stream",
     "text": [
      "started\n"
     ]
    },
    {
     "ename": "KeyError",
     "evalue": "'area'",
     "output_type": "error",
     "traceback": [
      "\u001b[1;31m---------------------------------------------------------------------------\u001b[0m",
      "\u001b[1;31mKeyError\u001b[0m                                  Traceback (most recent call last)",
      "File \u001b[1;32m~\\Anaconda3\\envs\\napari-env\\lib\\site-packages\\pandas\\core\\indexes\\base.py:3621\u001b[0m, in \u001b[0;36mIndex.get_loc\u001b[1;34m(self, key, method, tolerance)\u001b[0m\n\u001b[0;32m   <a href='file:///c%3A/Users/shil5659/Anaconda3/envs/napari-env/lib/site-packages/pandas/core/indexes/base.py?line=3619'>3620</a>\u001b[0m \u001b[39mtry\u001b[39;00m:\n\u001b[1;32m-> <a href='file:///c%3A/Users/shil5659/Anaconda3/envs/napari-env/lib/site-packages/pandas/core/indexes/base.py?line=3620'>3621</a>\u001b[0m     \u001b[39mreturn\u001b[39;00m \u001b[39mself\u001b[39;49m\u001b[39m.\u001b[39;49m_engine\u001b[39m.\u001b[39;49mget_loc(casted_key)\n\u001b[0;32m   <a href='file:///c%3A/Users/shil5659/Anaconda3/envs/napari-env/lib/site-packages/pandas/core/indexes/base.py?line=3621'>3622</a>\u001b[0m \u001b[39mexcept\u001b[39;00m \u001b[39mKeyError\u001b[39;00m \u001b[39mas\u001b[39;00m err:\n",
      "File \u001b[1;32m~\\Anaconda3\\envs\\napari-env\\lib\\site-packages\\pandas\\_libs\\index.pyx:136\u001b[0m, in \u001b[0;36mpandas._libs.index.IndexEngine.get_loc\u001b[1;34m()\u001b[0m\n",
      "File \u001b[1;32m~\\Anaconda3\\envs\\napari-env\\lib\\site-packages\\pandas\\_libs\\index.pyx:163\u001b[0m, in \u001b[0;36mpandas._libs.index.IndexEngine.get_loc\u001b[1;34m()\u001b[0m\n",
      "File \u001b[1;32mpandas\\_libs\\hashtable_class_helper.pxi:5198\u001b[0m, in \u001b[0;36mpandas._libs.hashtable.PyObjectHashTable.get_item\u001b[1;34m()\u001b[0m\n",
      "File \u001b[1;32mpandas\\_libs\\hashtable_class_helper.pxi:5206\u001b[0m, in \u001b[0;36mpandas._libs.hashtable.PyObjectHashTable.get_item\u001b[1;34m()\u001b[0m\n",
      "\u001b[1;31mKeyError\u001b[0m: 'area'",
      "\nThe above exception was the direct cause of the following exception:\n",
      "\u001b[1;31mKeyError\u001b[0m                                  Traceback (most recent call last)",
      "\u001b[1;32mc:\\Users\\shil5659\\Dropbox\\DPhil\\2021\\image-analysis\\cell_shape_experiments\\analysis\\morphological_measurements_0.0.ipynb Cell 4'\u001b[0m in \u001b[0;36m<cell line: 7>\u001b[1;34m()\u001b[0m\n\u001b[0;32m      <a href='vscode-notebook-cell:/c%3A/Users/shil5659/Dropbox/DPhil/2021/image-analysis/cell_shape_experiments/analysis/morphological_measurements_0.0.ipynb#ch0000003?line=8'>9</a>\u001b[0m \u001b[39mif\u001b[39;00m os\u001b[39m.\u001b[39mpath\u001b[39m.\u001b[39mexists(path): \n\u001b[0;32m     <a href='vscode-notebook-cell:/c%3A/Users/shil5659/Dropbox/DPhil/2021/image-analysis/cell_shape_experiments/analysis/morphological_measurements_0.0.ipynb#ch0000003?line=9'>10</a>\u001b[0m     img \u001b[39m=\u001b[39m np\u001b[39m.\u001b[39mload(path)\n\u001b[1;32m---> <a href='vscode-notebook-cell:/c%3A/Users/shil5659/Dropbox/DPhil/2021/image-analysis/cell_shape_experiments/analysis/morphological_measurements_0.0.ipynb#ch0000003?line=10'>11</a>\u001b[0m     d \u001b[39m=\u001b[39m get_measurements(img, metrics_3d, surf \u001b[39m=\u001b[39;49m \u001b[39m1\u001b[39;49m) \u001b[39m# oops forgot to save this \u001b[39;00m\n\u001b[0;32m     <a href='vscode-notebook-cell:/c%3A/Users/shil5659/Dropbox/DPhil/2021/image-analysis/cell_shape_experiments/analysis/morphological_measurements_0.0.ipynb#ch0000003?line=11'>12</a>\u001b[0m     data\u001b[39m.\u001b[39mappend(d)\n",
      "\u001b[1;32mc:\\Users\\shil5659\\Dropbox\\DPhil\\2021\\image-analysis\\cell_shape_experiments\\analysis\\morphological_measurements_0.0.ipynb Cell 2'\u001b[0m in \u001b[0;36mget_measurements\u001b[1;34m(masks, metrics, surf)\u001b[0m\n\u001b[0;32m     <a href='vscode-notebook-cell:/c%3A/Users/shil5659/Dropbox/DPhil/2021/image-analysis/cell_shape_experiments/analysis/morphological_measurements_0.0.ipynb#ch0000001?line=26'>27</a>\u001b[0m df \u001b[39m=\u001b[39m pd\u001b[39m.\u001b[39mDataFrame(shapes_2)\n\u001b[0;32m     <a href='vscode-notebook-cell:/c%3A/Users/shil5659/Dropbox/DPhil/2021/image-analysis/cell_shape_experiments/analysis/morphological_measurements_0.0.ipynb#ch0000001?line=28'>29</a>\u001b[0m df[\u001b[39m'\u001b[39m\u001b[39msurface area\u001b[39m\u001b[39m'\u001b[39m] \u001b[39m=\u001b[39m surf\n\u001b[1;32m---> <a href='vscode-notebook-cell:/c%3A/Users/shil5659/Dropbox/DPhil/2021/image-analysis/cell_shape_experiments/analysis/morphological_measurements_0.0.ipynb#ch0000001?line=30'>31</a>\u001b[0m df[\u001b[39m'\u001b[39m\u001b[39mcuboidness\u001b[39m\u001b[39m'\u001b[39m] \u001b[39m=\u001b[39m df[\u001b[39m'\u001b[39;49m\u001b[39marea\u001b[39;49m\u001b[39m'\u001b[39;49m] \u001b[39m/\u001b[39m masks\u001b[39m.\u001b[39mshape[\u001b[39m0\u001b[39m] \u001b[39m*\u001b[39m masks\u001b[39m.\u001b[39mshape[\u001b[39m1\u001b[39m] \u001b[39m*\u001b[39m masks\u001b[39m.\u001b[39mshape[\u001b[39m2\u001b[39m]\n\u001b[0;32m     <a href='vscode-notebook-cell:/c%3A/Users/shil5659/Dropbox/DPhil/2021/image-analysis/cell_shape_experiments/analysis/morphological_measurements_0.0.ipynb#ch0000001?line=31'>32</a>\u001b[0m df[\u001b[39m'\u001b[39m\u001b[39msphericity\u001b[39m\u001b[39m'\u001b[39m] \u001b[39m=\u001b[39m (math\u001b[39m.\u001b[39mpi\u001b[39m*\u001b[39m\u001b[39m*\u001b[39m(\u001b[39m1\u001b[39m\u001b[39m/\u001b[39m\u001b[39m3\u001b[39m) \u001b[39m*\u001b[39m (\u001b[39m6\u001b[39m \u001b[39m*\u001b[39m df[\u001b[39m'\u001b[39m\u001b[39marea\u001b[39m\u001b[39m'\u001b[39m])\u001b[39m*\u001b[39m\u001b[39m*\u001b[39m(\u001b[39m2\u001b[39m\u001b[39m/\u001b[39m\u001b[39m3\u001b[39m)) \u001b[39m/\u001b[39m df[\u001b[39m'\u001b[39m\u001b[39msurface area\u001b[39m\u001b[39m'\u001b[39m] \n\u001b[0;32m     <a href='vscode-notebook-cell:/c%3A/Users/shil5659/Dropbox/DPhil/2021/image-analysis/cell_shape_experiments/analysis/morphological_measurements_0.0.ipynb#ch0000001?line=32'>33</a>\u001b[0m df[\u001b[39m'\u001b[39m\u001b[39mflatness\u001b[39m\u001b[39m'\u001b[39m] \u001b[39m=\u001b[39m df[\u001b[39m'\u001b[39m\u001b[39mmajor_axis_length\u001b[39m\u001b[39m'\u001b[39m] \u001b[39m/\u001b[39m df[\u001b[39m'\u001b[39m\u001b[39mminor_axis_length\u001b[39m\u001b[39m'\u001b[39m] \n",
      "File \u001b[1;32m~\\Anaconda3\\envs\\napari-env\\lib\\site-packages\\pandas\\core\\frame.py:3505\u001b[0m, in \u001b[0;36mDataFrame.__getitem__\u001b[1;34m(self, key)\u001b[0m\n\u001b[0;32m   <a href='file:///c%3A/Users/shil5659/Anaconda3/envs/napari-env/lib/site-packages/pandas/core/frame.py?line=3502'>3503</a>\u001b[0m \u001b[39mif\u001b[39;00m \u001b[39mself\u001b[39m\u001b[39m.\u001b[39mcolumns\u001b[39m.\u001b[39mnlevels \u001b[39m>\u001b[39m \u001b[39m1\u001b[39m:\n\u001b[0;32m   <a href='file:///c%3A/Users/shil5659/Anaconda3/envs/napari-env/lib/site-packages/pandas/core/frame.py?line=3503'>3504</a>\u001b[0m     \u001b[39mreturn\u001b[39;00m \u001b[39mself\u001b[39m\u001b[39m.\u001b[39m_getitem_multilevel(key)\n\u001b[1;32m-> <a href='file:///c%3A/Users/shil5659/Anaconda3/envs/napari-env/lib/site-packages/pandas/core/frame.py?line=3504'>3505</a>\u001b[0m indexer \u001b[39m=\u001b[39m \u001b[39mself\u001b[39;49m\u001b[39m.\u001b[39;49mcolumns\u001b[39m.\u001b[39;49mget_loc(key)\n\u001b[0;32m   <a href='file:///c%3A/Users/shil5659/Anaconda3/envs/napari-env/lib/site-packages/pandas/core/frame.py?line=3505'>3506</a>\u001b[0m \u001b[39mif\u001b[39;00m is_integer(indexer):\n\u001b[0;32m   <a href='file:///c%3A/Users/shil5659/Anaconda3/envs/napari-env/lib/site-packages/pandas/core/frame.py?line=3506'>3507</a>\u001b[0m     indexer \u001b[39m=\u001b[39m [indexer]\n",
      "File \u001b[1;32m~\\Anaconda3\\envs\\napari-env\\lib\\site-packages\\pandas\\core\\indexes\\base.py:3623\u001b[0m, in \u001b[0;36mIndex.get_loc\u001b[1;34m(self, key, method, tolerance)\u001b[0m\n\u001b[0;32m   <a href='file:///c%3A/Users/shil5659/Anaconda3/envs/napari-env/lib/site-packages/pandas/core/indexes/base.py?line=3620'>3621</a>\u001b[0m     \u001b[39mreturn\u001b[39;00m \u001b[39mself\u001b[39m\u001b[39m.\u001b[39m_engine\u001b[39m.\u001b[39mget_loc(casted_key)\n\u001b[0;32m   <a href='file:///c%3A/Users/shil5659/Anaconda3/envs/napari-env/lib/site-packages/pandas/core/indexes/base.py?line=3621'>3622</a>\u001b[0m \u001b[39mexcept\u001b[39;00m \u001b[39mKeyError\u001b[39;00m \u001b[39mas\u001b[39;00m err:\n\u001b[1;32m-> <a href='file:///c%3A/Users/shil5659/Anaconda3/envs/napari-env/lib/site-packages/pandas/core/indexes/base.py?line=3622'>3623</a>\u001b[0m     \u001b[39mraise\u001b[39;00m \u001b[39mKeyError\u001b[39;00m(key) \u001b[39mfrom\u001b[39;00m \u001b[39merr\u001b[39;00m\n\u001b[0;32m   <a href='file:///c%3A/Users/shil5659/Anaconda3/envs/napari-env/lib/site-packages/pandas/core/indexes/base.py?line=3623'>3624</a>\u001b[0m \u001b[39mexcept\u001b[39;00m \u001b[39mTypeError\u001b[39;00m:\n\u001b[0;32m   <a href='file:///c%3A/Users/shil5659/Anaconda3/envs/napari-env/lib/site-packages/pandas/core/indexes/base.py?line=3624'>3625</a>\u001b[0m     \u001b[39m# If we have a listlike key, _check_indexing_error will raise\u001b[39;00m\n\u001b[0;32m   <a href='file:///c%3A/Users/shil5659/Anaconda3/envs/napari-env/lib/site-packages/pandas/core/indexes/base.py?line=3625'>3626</a>\u001b[0m     \u001b[39m#  InvalidIndexError. Otherwise we fall through and re-raise\u001b[39;00m\n\u001b[0;32m   <a href='file:///c%3A/Users/shil5659/Anaconda3/envs/napari-env/lib/site-packages/pandas/core/indexes/base.py?line=3626'>3627</a>\u001b[0m     \u001b[39m#  the TypeError.\u001b[39;00m\n\u001b[0;32m   <a href='file:///c%3A/Users/shil5659/Anaconda3/envs/napari-env/lib/site-packages/pandas/core/indexes/base.py?line=3627'>3628</a>\u001b[0m     \u001b[39mself\u001b[39m\u001b[39m.\u001b[39m_check_indexing_error(key)\n",
      "\u001b[1;31mKeyError\u001b[0m: 'area'"
     ]
    }
   ],
   "source": [
    "data = []\n",
    "\n",
    "cell_list = os.listdir('../output/cell_segs_limeseg/Img_1_segmentation2.0/')\n",
    "\n",
    "print('started')\n",
    "\n",
    "for cell in cell_list[0:3]: \n",
    "    path = '../output/cell_segs_limeseg/Img_1_segmentation2.0/' + cell + '/T_1.ply_.npy'\n",
    "    if os.path.exists(path): \n",
    "        img = np.load(path)\n",
    "        d = get_measurements(img, metrics_3d, surf = 1) # oops forgot to save this \n",
    "        data.append(d)\n",
    "\n",
    "    # helpful to view the pointcloud directly \n",
    "    # if the segmentation isn't working\n",
    "    # viewer.add_points(np.asarray(pointcloud.points))\n",
    "    # pointcloud = o3d.io.read_point_cloud(path)\n",
    "    # pointcloud.get_min_bound().astype(int)"
   ]
  }
 ],
 "metadata": {
  "interpreter": {
   "hash": "f3a84a3f59446f15d14eecb9fcec1e23c156815d6cce26876a9b4ea86f6d3aec"
  },
  "kernelspec": {
   "display_name": "Python 3.7.10 ('AGET')",
   "language": "python",
   "name": "python3"
  },
  "language_info": {
   "codemirror_mode": {
    "name": "ipython",
    "version": 3
   },
   "file_extension": ".py",
   "mimetype": "text/x-python",
   "name": "python",
   "nbconvert_exporter": "python",
   "pygments_lexer": "ipython3",
   "version": "3.8.13"
  },
  "orig_nbformat": 4
 },
 "nbformat": 4,
 "nbformat_minor": 2
}
